{
 "cells": [
  {
   "cell_type": "markdown",
   "metadata": {},
   "source": [
    "# Calculating Closeness, Bewteenness, and Degree"
   ]
  },
  {
   "cell_type": "code",
   "execution_count": 1,
   "metadata": {},
   "outputs": [],
   "source": [
    "import pandas as pd\n",
    "import networkx as nx\n",
    "import matplotlib.pyplot as plt\n",
    "%matplotlib inline\n",
    "import warnings; warnings.simplefilter('ignore')"
   ]
  },
  {
   "cell_type": "code",
   "execution_count": 2,
   "metadata": {},
   "outputs": [],
   "source": [
    "G_symmetric = nx.Graph()"
   ]
  },
  {
   "cell_type": "code",
   "execution_count": 5,
   "metadata": {},
   "outputs": [
    {
     "name": "stdout",
     "output_type": "stream",
     "text": [
      "Wall time: 12.7 s\n"
     ]
    }
   ],
   "source": [
    "%%time\n",
    "df_network = pd.read_csv('combined_github_data.csv')\n",
    "\n",
    "df_network.head()\n",
    "\n",
    "mask = df_network['ml_target'] != df_network['ml_target_2']\n",
    "df_network = df_network[mask]\n",
    "df_network.head()\n",
    "\n",
    "for i in range(len(df_network)):\n",
    "    G_symmetric.add_edge(df_network.iloc[i]['name'],  df_network.iloc[i]['name_2'])"
   ]
  },
  {
   "cell_type": "code",
   "execution_count": 9,
   "metadata": {},
   "outputs": [],
   "source": [
    "degree = nx.degree_centrality(G_symmetric)\n"
   ]
  },
  {
   "cell_type": "code",
   "execution_count": 10,
   "metadata": {},
   "outputs": [
    {
     "name": "stdout",
     "output_type": "stream",
     "text": [
      "Wall time: 20min 56s\n"
     ]
    }
   ],
   "source": [
    "%%time\n",
    "closeness = nx.closeness_centrality(G_symmetric)\n"
   ]
  },
  {
   "cell_type": "code",
   "execution_count": null,
   "metadata": {},
   "outputs": [],
   "source": [
    "%%time\n",
    "betweeness = nx.betweenness_centrality(G_symmetric)\n"
   ]
  },
  {
   "cell_type": "code",
   "execution_count": null,
   "metadata": {},
   "outputs": [],
   "source": [
    "df_degree = pd.DataFrame(degree.items())\n",
    "df_betweeness = pd.DataFrame(betweeness.items())\n",
    "df_closeness = pd.DataFrame(closeness.items())\n",
    "df_degree.head()\n",
    "\n",
    "df_new = df_degree.merge(df_betweeness, left_on=0, right_on=0)\n",
    "df_result = df_new.merge(df_closeness, left_on = 0, right_on = 0)\n",
    "df_result['Centrality'] = df_result['1_y'] + df_result['1'] + df_result['1_x']"
   ]
  },
  {
   "cell_type": "code",
   "execution_count": null,
   "metadata": {},
   "outputs": [],
   "source": [
    "df_result.to_csv('Centrality_github_data_cross_edge.csv')"
   ]
  },
  {
   "cell_type": "code",
   "execution_count": null,
   "metadata": {},
   "outputs": [],
   "source": [
    "df_closeness.head()"
   ]
  }
 ],
 "metadata": {
  "kernelspec": {
   "display_name": "Python 3",
   "language": "python",
   "name": "python3"
  },
  "language_info": {
   "codemirror_mode": {
    "name": "ipython",
    "version": 3
   },
   "file_extension": ".py",
   "mimetype": "text/x-python",
   "name": "python",
   "nbconvert_exporter": "python",
   "pygments_lexer": "ipython3",
   "version": "3.7.3"
  }
 },
 "nbformat": 4,
 "nbformat_minor": 2
}
