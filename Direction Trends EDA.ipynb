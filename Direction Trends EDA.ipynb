{
 "cells": [
  {
   "cell_type": "code",
   "execution_count": 1,
   "metadata": {},
   "outputs": [
    {
     "data": {
      "text/html": [
       "<div>\n",
       "<style scoped>\n",
       "    .dataframe tbody tr th:only-of-type {\n",
       "        vertical-align: middle;\n",
       "    }\n",
       "\n",
       "    .dataframe tbody tr th {\n",
       "        vertical-align: top;\n",
       "    }\n",
       "\n",
       "    .dataframe thead th {\n",
       "        text-align: right;\n",
       "    }\n",
       "</style>\n",
       "<table border=\"1\" class=\"dataframe\">\n",
       "  <thead>\n",
       "    <tr style=\"text-align: right;\">\n",
       "      <th></th>\n",
       "      <th>Unnamed: 0</th>\n",
       "      <th>id_1</th>\n",
       "      <th>id_2</th>\n",
       "      <th>name</th>\n",
       "      <th>ml_target</th>\n",
       "      <th>name_2</th>\n",
       "      <th>ml_target_2</th>\n",
       "    </tr>\n",
       "  </thead>\n",
       "  <tbody>\n",
       "    <tr>\n",
       "      <th>0</th>\n",
       "      <td>0</td>\n",
       "      <td>0</td>\n",
       "      <td>23977</td>\n",
       "      <td>Eiryyy</td>\n",
       "      <td>0</td>\n",
       "      <td>airtoxin</td>\n",
       "      <td>0</td>\n",
       "    </tr>\n",
       "    <tr>\n",
       "      <th>1</th>\n",
       "      <td>1</td>\n",
       "      <td>1</td>\n",
       "      <td>34526</td>\n",
       "      <td>shawflying</td>\n",
       "      <td>0</td>\n",
       "      <td>ghosind</td>\n",
       "      <td>0</td>\n",
       "    </tr>\n",
       "    <tr>\n",
       "      <th>2</th>\n",
       "      <td>2</td>\n",
       "      <td>1</td>\n",
       "      <td>2370</td>\n",
       "      <td>shawflying</td>\n",
       "      <td>0</td>\n",
       "      <td>jasondu</td>\n",
       "      <td>0</td>\n",
       "    </tr>\n",
       "    <tr>\n",
       "      <th>3</th>\n",
       "      <td>3</td>\n",
       "      <td>1</td>\n",
       "      <td>14683</td>\n",
       "      <td>shawflying</td>\n",
       "      <td>0</td>\n",
       "      <td>chaoslawful</td>\n",
       "      <td>0</td>\n",
       "    </tr>\n",
       "    <tr>\n",
       "      <th>4</th>\n",
       "      <td>4</td>\n",
       "      <td>1</td>\n",
       "      <td>29982</td>\n",
       "      <td>shawflying</td>\n",
       "      <td>0</td>\n",
       "      <td>dead-horse</td>\n",
       "      <td>0</td>\n",
       "    </tr>\n",
       "  </tbody>\n",
       "</table>\n",
       "</div>"
      ],
      "text/plain": [
       "   Unnamed: 0  id_1   id_2        name  ml_target       name_2  ml_target_2\n",
       "0           0     0  23977      Eiryyy          0     airtoxin            0\n",
       "1           1     1  34526  shawflying          0      ghosind            0\n",
       "2           2     1   2370  shawflying          0      jasondu            0\n",
       "3           3     1  14683  shawflying          0  chaoslawful            0\n",
       "4           4     1  29982  shawflying          0   dead-horse            0"
      ]
     },
     "execution_count": 1,
     "metadata": {},
     "output_type": "execute_result"
    }
   ],
   "source": [
    "import pandas as pd\n",
    "\n",
    "df = pd.read_csv('combined_github_data.csv')\n",
    "\n",
    "df.head()"
   ]
  },
  {
   "cell_type": "code",
   "execution_count": 2,
   "metadata": {},
   "outputs": [
    {
     "data": {
      "text/html": [
       "<div>\n",
       "<style scoped>\n",
       "    .dataframe tbody tr th:only-of-type {\n",
       "        vertical-align: middle;\n",
       "    }\n",
       "\n",
       "    .dataframe tbody tr th {\n",
       "        vertical-align: top;\n",
       "    }\n",
       "\n",
       "    .dataframe thead th {\n",
       "        text-align: right;\n",
       "    }\n",
       "</style>\n",
       "<table border=\"1\" class=\"dataframe\">\n",
       "  <thead>\n",
       "    <tr style=\"text-align: right;\">\n",
       "      <th></th>\n",
       "      <th>Unnamed: 0</th>\n",
       "      <th>id_1</th>\n",
       "      <th>id_2</th>\n",
       "      <th>name</th>\n",
       "      <th>ml_target</th>\n",
       "      <th>name_2</th>\n",
       "      <th>ml_target_2</th>\n",
       "    </tr>\n",
       "  </thead>\n",
       "  <tbody>\n",
       "    <tr>\n",
       "      <th>9</th>\n",
       "      <td>9</td>\n",
       "      <td>6067</td>\n",
       "      <td>19720</td>\n",
       "      <td>danalex97</td>\n",
       "      <td>1</td>\n",
       "      <td>benjaminaaron</td>\n",
       "      <td>0</td>\n",
       "    </tr>\n",
       "    <tr>\n",
       "      <th>11</th>\n",
       "      <td>11</td>\n",
       "      <td>3</td>\n",
       "      <td>4950</td>\n",
       "      <td>SuhwanCha</td>\n",
       "      <td>0</td>\n",
       "      <td>YuHyun7</td>\n",
       "      <td>1</td>\n",
       "    </tr>\n",
       "    <tr>\n",
       "      <th>12</th>\n",
       "      <td>12</td>\n",
       "      <td>3</td>\n",
       "      <td>18029</td>\n",
       "      <td>SuhwanCha</td>\n",
       "      <td>0</td>\n",
       "      <td>graykode</td>\n",
       "      <td>1</td>\n",
       "    </tr>\n",
       "    <tr>\n",
       "      <th>15</th>\n",
       "      <td>15</td>\n",
       "      <td>3</td>\n",
       "      <td>5916</td>\n",
       "      <td>SuhwanCha</td>\n",
       "      <td>0</td>\n",
       "      <td>IJEMIN</td>\n",
       "      <td>1</td>\n",
       "    </tr>\n",
       "    <tr>\n",
       "      <th>16</th>\n",
       "      <td>16</td>\n",
       "      <td>4</td>\n",
       "      <td>2865</td>\n",
       "      <td>sunilangadi2</td>\n",
       "      <td>1</td>\n",
       "      <td>mshahriarinia</td>\n",
       "      <td>0</td>\n",
       "    </tr>\n",
       "  </tbody>\n",
       "</table>\n",
       "</div>"
      ],
      "text/plain": [
       "    Unnamed: 0  id_1   id_2          name  ml_target         name_2  \\\n",
       "9            9  6067  19720     danalex97          1  benjaminaaron   \n",
       "11          11     3   4950     SuhwanCha          0        YuHyun7   \n",
       "12          12     3  18029     SuhwanCha          0       graykode   \n",
       "15          15     3   5916     SuhwanCha          0         IJEMIN   \n",
       "16          16     4   2865  sunilangadi2          1  mshahriarinia   \n",
       "\n",
       "    ml_target_2  \n",
       "9             0  \n",
       "11            1  \n",
       "12            1  \n",
       "15            1  \n",
       "16            0  "
      ]
     },
     "execution_count": 2,
     "metadata": {},
     "output_type": "execute_result"
    }
   ],
   "source": [
    "df_different = df[df['ml_target']!=df['ml_target_2']]\n",
    "df_different.head()"
   ]
  },
  {
   "cell_type": "code",
   "execution_count": 3,
   "metadata": {},
   "outputs": [
    {
     "name": "stdout",
     "output_type": "stream",
     "text": [
      "Number of ML --> WD follows: 21679\n",
      "Number of WD --> ML follows: 23017\n"
     ]
    }
   ],
   "source": [
    "ml_follows_wd = df_different[df_different['ml_target']==1]\n",
    "wd_follows_ml = df_different[df_different['ml_target']==0]\n",
    "print('Number of ML --> WD follows:',len(ml_follows_wd))\n",
    "print('Number of WD --> ML follows:',len(wd_follows_ml))"
   ]
  },
  {
   "cell_type": "code",
   "execution_count": 22,
   "metadata": {},
   "outputs": [
    {
     "name": "stdout",
     "output_type": "stream",
     "text": [
      "The proportion of MLs following WDs is\n",
      "0.48503221764811166\n"
     ]
    }
   ],
   "source": [
    "print('The proportion of MLs following WDs is')\n",
    "print(sum(df_different['ml_target'])/len(df_different['ml_target']))\n",
    "\n",
    "print('The Bayesian expected proportion would be:')\n",
    "print(prob_wd)\n"
   ]
  },
  {
   "cell_type": "code",
   "execution_count": 18,
   "metadata": {},
   "outputs": [],
   "source": [
    "df = pd.read_csv('Github_degree_betweenness_closeness.csv')\n",
    "\n",
    "df['ml_target'].value_counts()\n",
    "df['Degree_betweenness_closeness'] = 1/3*(df['Degree'] + df['betweenness'] + df['closeness'])\n",
    "df_homophily = pd.read_csv('combined_github_data.csv')\n",
    "df_homophily.head()\n",
    "df_accounts = pd.read_csv('musae_git_target.csv')\n",
    "len(df_accounts)\n",
    "prob_ml = sum(df_accounts['ml_target'])/len(df_accounts)\n",
    "prob_wd = 1-prob_ml"
   ]
  },
  {
   "cell_type": "code",
   "execution_count": 20,
   "metadata": {},
   "outputs": [
    {
     "name": "stdout",
     "output_type": "stream",
     "text": [
      "0.2583289124668435\n",
      "0.7416710875331565\n"
     ]
    }
   ],
   "source": [
    "print(prob_ml)\n",
    "print(prob_wd)"
   ]
  }
 ],
 "metadata": {
  "kernelspec": {
   "display_name": "Python 3",
   "language": "python",
   "name": "python3"
  },
  "language_info": {
   "codemirror_mode": {
    "name": "ipython",
    "version": 3
   },
   "file_extension": ".py",
   "mimetype": "text/x-python",
   "name": "python",
   "nbconvert_exporter": "python",
   "pygments_lexer": "ipython3",
   "version": "3.7.3"
  }
 },
 "nbformat": 4,
 "nbformat_minor": 2
}
